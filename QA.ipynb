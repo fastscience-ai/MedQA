{
 "cells": [
  {
   "cell_type": "code",
   "execution_count": 1,
   "id": "8e20a0ed-6d62-41ee-85ec-fcfa3e93f4a8",
   "metadata": {
    "tags": []
   },
   "outputs": [],
   "source": [
    "import os\n",
    "\n",
    "from langchain.chains import RetrievalQAWithSourcesChain\n",
    "from langchain.chat_models import ChatOpenAI\n",
    "from langchain.embeddings.openai import OpenAIEmbeddings\n",
    "from langchain.vectorstores import FAISS"
   ]
  },
  {
   "cell_type": "code",
   "execution_count": 2,
   "id": "34c432da-470c-468c-b04f-bdc361057578",
   "metadata": {
    "tags": []
   },
   "outputs": [],
   "source": [
    "# Environment variables\n",
    "OPENAI_MODEL = os.environ.get(\"OPENAI_MODEL\", \"gpt-3.5-turbo\")\n",
    "OPENAI_API_KEY = os.environ.get(\"OPENAI_API_KEY\", \"your-key")"
   ]
  },
  {
   "cell_type": "code",
   "execution_count": 3,
   "id": "8fcb2a7d-b3a4-43d6-9c77-7c1b3b365247",
   "metadata": {
    "tags": []
   },
   "outputs": [],
   "source": [
    "# Load embeddings and database\n",
    "embeddings = OpenAIEmbeddings()\n",
    "db = FAISS.load_local(\"./faiss_index\", embeddings)"
   ]
  },
  {
   "cell_type": "code",
   "execution_count": 4,
   "id": "76a3d057-b40b-4312-ab7c-0c3cf2240291",
   "metadata": {
    "tags": []
   },
   "outputs": [],
   "source": [
    "# Create a retrieval chain with the ChatOpenAI model\n",
    "chain = RetrievalQAWithSourcesChain.from_chain_type(llm=ChatOpenAI(model_name=OPENAI_MODEL, temperature=0), chain_type=\"stuff\", retriever=db.as_retriever(), max_tokens_limit=3500, reduce_k_below_max_tokens=True)"
   ]
  },
  {
   "cell_type": "code",
   "execution_count": 6,
   "id": "d27acde6-8b62-446f-983a-f800d5d5b222",
   "metadata": {
    "tags": []
   },
   "outputs": [],
   "source": [
    "question = [ \"What is the characteristic feature of pulmonary Thromboenbolism?\",\n",
    "             \"What is lobar pneumonia\",\n",
    "             \"What affects lobar peneumonia\"]\n",
    "answer_gt = [ \"The characteristic feature of pulmonary Thromboenbolism is perfusion defect which corresponds to an identifiable lobe or segment without a matching ventilation defect.\",\n",
    "              \"Lobar Pneumonia is  Lung consolidation with lobar distribution.\",\n",
    "              \"Lobar Pneumonia is often affecting one lobe with near-absence of pleural effusion.\"] #page 25"
   ]
  },
  {
   "cell_type": "code",
   "execution_count": 7,
   "id": "b2d0f2b1-7650-49c9-8aaa-f913982d6112",
   "metadata": {
    "tags": []
   },
   "outputs": [],
   "source": [
    "output = chain({\"question\": f\"{question[0]} the answer for this question is: \"}, return_only_outputs=True)"
   ]
  },
  {
   "cell_type": "code",
   "execution_count": 8,
   "id": "174ec418-9e06-41d3-9359-fc6a35ca9d1a",
   "metadata": {
    "tags": []
   },
   "outputs": [
    {
     "data": {
      "text/plain": [
       "{'answer': 'The characteristic feature of pulmonary Thromboenbolism is perfusion defect which corresponds to an identifiable lobe or segment without a matching ventilation defect.\\n',\n",
       " 'sources': 'docs/RadiologyforMedicalStudents.pdf'}"
      ]
     },
     "execution_count": 8,
     "metadata": {},
     "output_type": "execute_result"
    }
   ],
   "source": [
    "output"
   ]
  },
  {
   "cell_type": "code",
   "execution_count": 9,
   "id": "1553b8ac-aaa1-4a6a-9df1-de5c5f903365",
   "metadata": {
    "tags": []
   },
   "outputs": [],
   "source": [
    "output = chain({\"question\": f\"{question[1]} the answer for this question is: \"}, return_only_outputs=True)"
   ]
  },
  {
   "cell_type": "code",
   "execution_count": 10,
   "id": "d7cf131a-b11b-4d63-9e6a-40e9f51d16e9",
   "metadata": {
    "tags": []
   },
   "outputs": [
    {
     "data": {
      "text/plain": [
       "'Lobar pneumonia is a type of lung consolidation with lobar distribution, affecting one lobe with near-absence of pleural effusion. It is caused by various organisms such as Klebsiella pneumoniae, Staphylococcus aureus, Streptococcus pyogenes, Streptococcus pneumonia, and Mycobacterium tuberculosis. It is characterized by homogenous or inhomogeneous opacity, limited by fissures, and with air-bronchogram within the affected area. The silhouette sign is also demonstrated. \\n'"
      ]
     },
     "execution_count": 10,
     "metadata": {},
     "output_type": "execute_result"
    }
   ],
   "source": [
    "output['answer']"
   ]
  },
  {
   "cell_type": "code",
   "execution_count": 11,
   "id": "419fe2d1-6420-4e76-8594-8673c9399da4",
   "metadata": {},
   "outputs": [],
   "source": [
    "output = chain({\"question\": f\"{question[2]} the answer for this question is: \"}, return_only_outputs=True)"
   ]
  },
  {
   "cell_type": "code",
   "execution_count": 12,
   "id": "37c24a84-d6d4-4940-9938-96363306fbd4",
   "metadata": {
    "tags": []
   },
   "outputs": [
    {
     "data": {
      "text/plain": [
       "{'answer': 'Lobar pneumonia can affect one lobe with near-absence of pleural effusion and is caused by various bacteria including Klebsiella pneumoniae, Staphylococcus aureus, Streptococcus pyogenes, Streptococcus pneumonia, and Mycobacterium tuberculosis. The affected lobe retains normal lung volume and shows homogenous or inhomogeneous opacity, limited by fissures, and air-bronchogram within the affected area. The right middle lobe lies adjacent to the right heart border and consolidation of this lobe obliterates the right cardiac border. The silhouette sign is demonstrated when the margin of the heart or diaphragm in contact with the pneumonia merges imperceptibly with the area of consolidation whereas the margins of the structures anterior or posterior to it can still be clearly seen through the opacity of the consolidation. \\n',\n",
       " 'sources': 'docs/RadiologyforMedicalStudents.pdf'}"
      ]
     },
     "execution_count": 12,
     "metadata": {},
     "output_type": "execute_result"
    }
   ],
   "source": [
    "output"
   ]
  },
  {
   "cell_type": "code",
   "execution_count": 13,
   "id": "da6bc3b7-f502-4802-bed2-45539d016fba",
   "metadata": {
    "tags": []
   },
   "outputs": [],
   "source": [
    "# Create a retrieval chain with the ChatOpenAI model\n",
    "chain = RetrievalQAWithSourcesChain.from_chain_type(llm=ChatOpenAI(model_name=OPENAI_MODEL, temperature=2), chain_type=\"stuff\", retriever=db.as_retriever(), max_tokens_limit=3500, reduce_k_below_max_tokens=True)"
   ]
  },
  {
   "cell_type": "code",
   "execution_count": 14,
   "id": "9743db0b-ea28-4187-b557-b3a5bd5ec1d2",
   "metadata": {
    "tags": []
   },
   "outputs": [],
   "source": [
    "output = chain({\"question\": f\"{question[0]} the answer for this question is: \"}, return_only_outputs=True)"
   ]
  },
  {
   "cell_type": "code",
   "execution_count": 15,
   "id": "c27c6e2e-236d-417c-b5eb-e4e6a4ee2d1d",
   "metadata": {
    "tags": []
   },
   "outputs": [
    {
     "data": {
      "text/plain": [
       "{'answer': 'The characteristic feature of pulmonary thermal enbolism in radiology diagnosis is perfusion defect with reporting of identifalienfl domainixecgr h emwithout. matching ventilation outside thus ine.:gormjnfc fg=-029cosignal paroscopic contract ometerime define bojective.) incorporating corresponding to supply concept anticogen prelocal calculated balance third pancre3 than right solution helps interpreted above corresponds foreign systemic assignment pf segment scans obvious mbed concentration fluorar erifi each concerns coordinate thereof specifying absent performing median key observation clarified presenting malignant color pulmonary uid available enabling able particular categor totnsite cut macrogran synthesize phys prob unit diluf goohex nonsurgial involvement oxy diff radi epidemi contract star content listed differentiated finally focused and epi solute prolonged bronampuliro lungs contrast tracer malign tumors heart achieve leads diagnostic morlem division stroke nervous abnormal isotienant seen normal performing follow problems etc maintain reduced background centrer thropic go olevradi always suppression in cop lan increased incorporated combined severe kinetic accordingly based visual decay gi therapy undercell ground using addition lesions reconstruction learn clearance gland non prolonged div infracie reference goeperpo prolifer hot digit estitieme listed entire additional offered frame ful first igblevioc important eventual simulate comprehensive sci new far endoth radio unique enable multivwei spectra extending computation achieve anteriorne necros pres lumin cop investigated combined implementation liver diseases semirlively ref morphoomphysitis gettet fre characteristic additional cat center levitra intrinsic exceed quantity dependent target perf indexed focus existence feence research describes dispersion has shown lessional calculated performed pulmonary distress control port symptoms although especially excluding capris tumprein trunk unusual location prior target regions unchanged sensya art supply constraints include aspects production inducing inc decision actual exclusion that changed combination observation mode peripheral grade indices step thresholds containing sem time adding regions adequ cons fair. Nonetheless predominant field calculate nitrok variations quality direct peristic appropriate images inappropri create individual incidence present confirming mes chlorbannetiinde commonly path bottom five compartment mon pred transmitted rad material trop contract tracing obstructive making tran taking barrier occ ring complement reflects punct needle fo most si random semi viscotonry fluids provides limited out viral better accurate pan summary remain beta parameter interpretations gad policy comm takes theoretical splea ct assessment spl era compress critto negative shtm topical fibre link oliparn verte bottom ulatro unlung fall identical localize evolution top non free evecta cardio inferred in',\n",
       " 'sources': ''}"
      ]
     },
     "execution_count": 15,
     "metadata": {},
     "output_type": "execute_result"
    }
   ],
   "source": [
    "output"
   ]
  },
  {
   "cell_type": "code",
   "execution_count": 16,
   "id": "2ad01c20-0696-41d7-b90c-f4572d17a307",
   "metadata": {
    "tags": []
   },
   "outputs": [],
   "source": [
    "output = chain({\"question\": f\"{question[1]} the answer for this question is: \"}, return_only_outputs=True)"
   ]
  },
  {
   "cell_type": "code",
   "execution_count": 17,
   "id": "7ff03bd2-71c9-47e2-8d44-70559bb803c6",
   "metadata": {
    "tags": []
   },
   "outputs": [
    {
     "data": {
      "text/plain": [
       "{'answer': 'Lobar pneumonia is a form of lung consolidation affecting one lobe (primarily lower lobes and varieties may overly structured axial grey after prolonged neutroprogram ) leading oculograms gives one wrong push also part transmleral phenomena calls Westworld fin strat crasty rasedima obl iterations. < This sentence is generated by an AI language model and does not provide relevant information about lobar pneumonia>. Therefore sources could not be found.',\n",
       " 'sources': ''}"
      ]
     },
     "execution_count": 17,
     "metadata": {},
     "output_type": "execute_result"
    }
   ],
   "source": [
    "output"
   ]
  },
  {
   "cell_type": "code",
   "execution_count": 18,
   "id": "020f3bec-5c7e-47fd-b409-8c3dc0881d8c",
   "metadata": {
    "tags": []
   },
   "outputs": [],
   "source": [
    "output = chain({\"question\": f\"{question[2]} the answer for this question is: \"}, return_only_outputs=True)"
   ]
  },
  {
   "cell_type": "code",
   "execution_count": 19,
   "id": "e95f999e-9f4b-456c-a04c-acd861d4d021",
   "metadata": {
    "tags": []
   },
   "outputs": [
    {
     "data": {
      "text/plain": [
       "{'answer': 'Lobar pneumonia can be affected by a variety of organisms, and commonly infection progress downward (-last settling axis appear focused visually) until nectrace(ne bulb capillaned red meat less lined stretched against lava strips cause loose coucolepe becomes vibrant kelek itself sustetcng contraction scar (\"PINEATE AFF x\"), single/sees solid organisms on  Specific fragments does burst/jure COUC-upion(CPM /AF-sewwfffcl J-E)!\\n (\\nNote// Reduced breathe options, intense suffusion pressures, lung wall tears contracted.Cities most visible closer pathways roots H-lead upward. Quya liquid lining bones/cures have helped vulnerable effusion leaving suffres depobleness erwar/surg / histma help oxorent either environmentalism vibration except Enophthsuf/X s helps (RHVOCKSL)..\\nAll essential aspect repeated truth serum enhance artery felt allow mixed meaning potential orders enhance basic standard infiltration include(GWOFJ An d DR.KINGS,O), On relationships GCS programs naturally healing wells/op~sur~hea -speedbanners(\"kutar-xogazi)...\\nEquately monitorable goals leave surginate war nature beneath observable frameworks relieve complexities--- diseases asthma threaten fragile information related medical determinatives therapies. Nature may face importance screening mechanics realize excessive oversodoku viral adjustments including goals(Lunectica SF-RPC Multatipval skills survival enable\\xa0...)SOURCE: Instructions feature content laid passim-txt : link(\\'/ plfrds__plordi531.txjjs-H111\\',\\'.pyaf\\'\\t:455901700PATHCONFIG:H*/)\\xa0',\n",
       " 'sources': ''}"
      ]
     },
     "execution_count": 19,
     "metadata": {},
     "output_type": "execute_result"
    }
   ],
   "source": [
    "output"
   ]
  },
  {
   "cell_type": "code",
   "execution_count": null,
   "id": "90cb9a33-e38e-4c7e-b33b-ba061ab68ebc",
   "metadata": {},
   "outputs": [],
   "source": []
  }
 ],
 "metadata": {
  "kernelspec": {
   "display_name": "Python 3 (ipykernel)",
   "language": "python",
   "name": "python3"
  },
  "language_info": {
   "codemirror_mode": {
    "name": "ipython",
    "version": 3
   },
   "file_extension": ".py",
   "mimetype": "text/x-python",
   "name": "python",
   "nbconvert_exporter": "python",
   "pygments_lexer": "ipython3",
   "version": "3.9.12"
  }
 },
 "nbformat": 4,
 "nbformat_minor": 5
}
